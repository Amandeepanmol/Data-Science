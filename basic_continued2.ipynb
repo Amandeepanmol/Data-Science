{
 "cells": [
  {
   "cell_type": "code",
   "execution_count": 1,
   "metadata": {},
   "outputs": [],
   "source": [
    "student={'Name':['Amandeep_Singh','Srajan_Jaiswal','Aman_Saraogi','Vibhor_Singh','Akki Sharma'],\n",
    "          'Age':[20,21,19,20,'Na'],\n",
    "          'Marks':[98,89,78,92,75],\n",
    "          'Phoneno':[9878978,787898,7898789,'Na',88778988],\n",
    "          'City':['Lucknow','Kanpur','Jhansi','Dehradun','Lucknow'],\n",
    "          'email':['amandeep@gmail.com','jaiswalsrajan@gmail.com','aman@gmail.com','vibhu@gmail.com','Na']\n",
    "        }"
   ]
  },
  {
   "cell_type": "code",
   "execution_count": 2,
   "metadata": {},
   "outputs": [],
   "source": [
    "import pandas as pd\n",
    "df=pd.DataFrame(student)"
   ]
  },
  {
   "cell_type": "code",
   "execution_count": 3,
   "metadata": {},
   "outputs": [
    {
     "data": {
      "text/html": [
       "<div>\n",
       "<style scoped>\n",
       "    .dataframe tbody tr th:only-of-type {\n",
       "        vertical-align: middle;\n",
       "    }\n",
       "\n",
       "    .dataframe tbody tr th {\n",
       "        vertical-align: top;\n",
       "    }\n",
       "\n",
       "    .dataframe thead th {\n",
       "        text-align: right;\n",
       "    }\n",
       "</style>\n",
       "<table border=\"1\" class=\"dataframe\">\n",
       "  <thead>\n",
       "    <tr style=\"text-align: right;\">\n",
       "      <th></th>\n",
       "      <th>Name</th>\n",
       "      <th>Age</th>\n",
       "      <th>Marks</th>\n",
       "      <th>Phoneno</th>\n",
       "      <th>City</th>\n",
       "      <th>email</th>\n",
       "    </tr>\n",
       "  </thead>\n",
       "  <tbody>\n",
       "    <tr>\n",
       "      <th>0</th>\n",
       "      <td>Amandeep_Singh</td>\n",
       "      <td>20</td>\n",
       "      <td>98</td>\n",
       "      <td>9878978</td>\n",
       "      <td>Lucknow</td>\n",
       "      <td>amandeep@gmail.com</td>\n",
       "    </tr>\n",
       "    <tr>\n",
       "      <th>1</th>\n",
       "      <td>Srajan_Jaiswal</td>\n",
       "      <td>21</td>\n",
       "      <td>89</td>\n",
       "      <td>787898</td>\n",
       "      <td>Kanpur</td>\n",
       "      <td>jaiswalsrajan@gmail.com</td>\n",
       "    </tr>\n",
       "    <tr>\n",
       "      <th>2</th>\n",
       "      <td>Aman_Saraogi</td>\n",
       "      <td>19</td>\n",
       "      <td>78</td>\n",
       "      <td>7898789</td>\n",
       "      <td>Jhansi</td>\n",
       "      <td>aman@gmail.com</td>\n",
       "    </tr>\n",
       "    <tr>\n",
       "      <th>3</th>\n",
       "      <td>Vibhor_Singh</td>\n",
       "      <td>20</td>\n",
       "      <td>92</td>\n",
       "      <td>Na</td>\n",
       "      <td>Dehradun</td>\n",
       "      <td>vibhu@gmail.com</td>\n",
       "    </tr>\n",
       "    <tr>\n",
       "      <th>4</th>\n",
       "      <td>Akki Sharma</td>\n",
       "      <td>Na</td>\n",
       "      <td>75</td>\n",
       "      <td>88778988</td>\n",
       "      <td>Lucknow</td>\n",
       "      <td>Na</td>\n",
       "    </tr>\n",
       "  </tbody>\n",
       "</table>\n",
       "</div>"
      ],
      "text/plain": [
       "             Name Age  Marks   Phoneno      City                    email\n",
       "0  Amandeep_Singh  20     98   9878978   Lucknow       amandeep@gmail.com\n",
       "1  Srajan_Jaiswal  21     89    787898    Kanpur  jaiswalsrajan@gmail.com\n",
       "2    Aman_Saraogi  19     78   7898789    Jhansi           aman@gmail.com\n",
       "3    Vibhor_Singh  20     92        Na  Dehradun          vibhu@gmail.com\n",
       "4     Akki Sharma  Na     75  88778988   Lucknow                       Na"
      ]
     },
     "execution_count": 3,
     "metadata": {},
     "output_type": "execute_result"
    }
   ],
   "source": [
    "df"
   ]
  },
  {
   "cell_type": "code",
   "execution_count": 4,
   "metadata": {},
   "outputs": [
    {
     "data": {
      "text/plain": [
       "Index(['Name', 'Age', 'Marks', 'Phoneno', 'City', 'email'], dtype='object')"
      ]
     },
     "execution_count": 4,
     "metadata": {},
     "output_type": "execute_result"
    }
   ],
   "source": [
    "df.columns        #name of all columns"
   ]
  },
  {
   "cell_type": "code",
   "execution_count": 5,
   "metadata": {},
   "outputs": [
    {
     "data": {
      "text/html": [
       "<div>\n",
       "<style scoped>\n",
       "    .dataframe tbody tr th:only-of-type {\n",
       "        vertical-align: middle;\n",
       "    }\n",
       "\n",
       "    .dataframe tbody tr th {\n",
       "        vertical-align: top;\n",
       "    }\n",
       "\n",
       "    .dataframe thead th {\n",
       "        text-align: right;\n",
       "    }\n",
       "</style>\n",
       "<table border=\"1\" class=\"dataframe\">\n",
       "  <thead>\n",
       "    <tr style=\"text-align: right;\">\n",
       "      <th></th>\n",
       "      <th>Name</th>\n",
       "      <th>Age</th>\n",
       "      <th>Marks</th>\n",
       "      <th>Phoneno</th>\n",
       "      <th>City</th>\n",
       "      <th>email</th>\n",
       "    </tr>\n",
       "  </thead>\n",
       "  <tbody>\n",
       "    <tr>\n",
       "      <th>4</th>\n",
       "      <td>Akki Sharma</td>\n",
       "      <td>Na</td>\n",
       "      <td>75</td>\n",
       "      <td>88778988</td>\n",
       "      <td>Lucknow</td>\n",
       "      <td>Na</td>\n",
       "    </tr>\n",
       "  </tbody>\n",
       "</table>\n",
       "</div>"
      ],
      "text/plain": [
       "          Name Age  Marks   Phoneno     City email\n",
       "4  Akki Sharma  Na     75  88778988  Lucknow    Na"
      ]
     },
     "execution_count": 5,
     "metadata": {},
     "output_type": "execute_result"
    }
   ],
   "source": [
    "filt=df['Name']==\"Akki Sharma\"\n",
    "df.loc[filt]"
   ]
  },
  {
   "cell_type": "code",
   "execution_count": 6,
   "metadata": {},
   "outputs": [
    {
     "data": {
      "text/plain": [
       "89.0"
      ]
     },
     "execution_count": 6,
     "metadata": {},
     "output_type": "execute_result"
    }
   ],
   "source": [
    "df['Marks'].median()"
   ]
  },
  {
   "cell_type": "code",
   "execution_count": 7,
   "metadata": {},
   "outputs": [
    {
     "data": {
      "text/plain": [
       "<bound method DataFrame.info of              Name Age  Marks   Phoneno      City                    email\n",
       "0  Amandeep_Singh  20     98   9878978   Lucknow       amandeep@gmail.com\n",
       "1  Srajan_Jaiswal  21     89    787898    Kanpur  jaiswalsrajan@gmail.com\n",
       "2    Aman_Saraogi  19     78   7898789    Jhansi           aman@gmail.com\n",
       "3    Vibhor_Singh  20     92        Na  Dehradun          vibhu@gmail.com\n",
       "4     Akki Sharma  Na     75  88778988   Lucknow                       Na>"
      ]
     },
     "execution_count": 7,
     "metadata": {},
     "output_type": "execute_result"
    }
   ],
   "source": [
    "df.info"
   ]
  },
  {
   "cell_type": "code",
   "execution_count": 8,
   "metadata": {},
   "outputs": [
    {
     "data": {
      "text/plain": [
       "20    0.4\n",
       "21    0.2\n",
       "19    0.2\n",
       "Na    0.2\n",
       "Name: Age, dtype: float64"
      ]
     },
     "execution_count": 8,
     "metadata": {},
     "output_type": "execute_result"
    }
   ],
   "source": [
    "df['Age'].value_counts(20)"
   ]
  },
  {
   "cell_type": "code",
   "execution_count": 9,
   "metadata": {},
   "outputs": [
    {
     "data": {
      "text/html": [
       "<div>\n",
       "<style scoped>\n",
       "    .dataframe tbody tr th:only-of-type {\n",
       "        vertical-align: middle;\n",
       "    }\n",
       "\n",
       "    .dataframe tbody tr th {\n",
       "        vertical-align: top;\n",
       "    }\n",
       "\n",
       "    .dataframe thead th {\n",
       "        text-align: right;\n",
       "    }\n",
       "</style>\n",
       "<table border=\"1\" class=\"dataframe\">\n",
       "  <thead>\n",
       "    <tr style=\"text-align: right;\">\n",
       "      <th></th>\n",
       "      <th>Marks</th>\n",
       "    </tr>\n",
       "  </thead>\n",
       "  <tbody>\n",
       "    <tr>\n",
       "      <th>count</th>\n",
       "      <td>5.000000</td>\n",
       "    </tr>\n",
       "    <tr>\n",
       "      <th>mean</th>\n",
       "      <td>86.400000</td>\n",
       "    </tr>\n",
       "    <tr>\n",
       "      <th>std</th>\n",
       "      <td>9.659193</td>\n",
       "    </tr>\n",
       "    <tr>\n",
       "      <th>min</th>\n",
       "      <td>75.000000</td>\n",
       "    </tr>\n",
       "    <tr>\n",
       "      <th>25%</th>\n",
       "      <td>78.000000</td>\n",
       "    </tr>\n",
       "    <tr>\n",
       "      <th>50%</th>\n",
       "      <td>89.000000</td>\n",
       "    </tr>\n",
       "    <tr>\n",
       "      <th>75%</th>\n",
       "      <td>92.000000</td>\n",
       "    </tr>\n",
       "    <tr>\n",
       "      <th>max</th>\n",
       "      <td>98.000000</td>\n",
       "    </tr>\n",
       "  </tbody>\n",
       "</table>\n",
       "</div>"
      ],
      "text/plain": [
       "           Marks\n",
       "count   5.000000\n",
       "mean   86.400000\n",
       "std     9.659193\n",
       "min    75.000000\n",
       "25%    78.000000\n",
       "50%    89.000000\n",
       "75%    92.000000\n",
       "max    98.000000"
      ]
     },
     "execution_count": 9,
     "metadata": {},
     "output_type": "execute_result"
    }
   ],
   "source": [
    "df.describe()          # gives ous quick overview about Bunch of data at the single unit."
   ]
  },
  {
   "cell_type": "code",
   "execution_count": 10,
   "metadata": {},
   "outputs": [
    {
     "data": {
      "text/plain": [
       "20    0.4\n",
       "21    0.2\n",
       "19    0.2\n",
       "Na    0.2\n",
       "Name: Age, dtype: float64"
      ]
     },
     "execution_count": 10,
     "metadata": {},
     "output_type": "execute_result"
    }
   ],
   "source": [
    "df['Age'].value_counts(20)"
   ]
  },
  {
   "cell_type": "code",
   "execution_count": 11,
   "metadata": {},
   "outputs": [
    {
     "data": {
      "text/plain": [
       "0    Amandeep_Singh\n",
       "1    Srajan_Jaiswal\n",
       "2      Aman_Saraogi\n",
       "3      Vibhor_Singh\n",
       "4       Akki Sharma\n",
       "Name: Name, dtype: object"
      ]
     },
     "execution_count": 11,
     "metadata": {},
     "output_type": "execute_result"
    }
   ],
   "source": [
    "df['Name']"
   ]
  },
  {
   "cell_type": "code",
   "execution_count": 12,
   "metadata": {},
   "outputs": [
    {
     "data": {
      "text/plain": [
       "Name           Amandeep_Singh\n",
       "Age                        20\n",
       "Marks                      98\n",
       "Phoneno               9878978\n",
       "City                  Lucknow\n",
       "email      amandeep@gmail.com\n",
       "Name: 0, dtype: object"
      ]
     },
     "execution_count": 12,
     "metadata": {},
     "output_type": "execute_result"
    }
   ],
   "source": [
    "df.iloc[0]"
   ]
  },
  {
   "cell_type": "code",
   "execution_count": 13,
   "metadata": {},
   "outputs": [
    {
     "data": {
      "text/html": [
       "<div>\n",
       "<style scoped>\n",
       "    .dataframe tbody tr th:only-of-type {\n",
       "        vertical-align: middle;\n",
       "    }\n",
       "\n",
       "    .dataframe tbody tr th {\n",
       "        vertical-align: top;\n",
       "    }\n",
       "\n",
       "    .dataframe thead th {\n",
       "        text-align: right;\n",
       "    }\n",
       "</style>\n",
       "<table border=\"1\" class=\"dataframe\">\n",
       "  <thead>\n",
       "    <tr style=\"text-align: right;\">\n",
       "      <th></th>\n",
       "      <th>Name</th>\n",
       "      <th>Age</th>\n",
       "      <th>Marks</th>\n",
       "      <th>Phoneno</th>\n",
       "      <th>City</th>\n",
       "      <th>email</th>\n",
       "    </tr>\n",
       "  </thead>\n",
       "  <tbody>\n",
       "    <tr>\n",
       "      <th>0</th>\n",
       "      <td>Amandeep_Singh</td>\n",
       "      <td>20</td>\n",
       "      <td>98</td>\n",
       "      <td>9878978</td>\n",
       "      <td>Lucknow</td>\n",
       "      <td>amandeep@gmail.com</td>\n",
       "    </tr>\n",
       "    <tr>\n",
       "      <th>1</th>\n",
       "      <td>Srajan_Jaiswal</td>\n",
       "      <td>21</td>\n",
       "      <td>89</td>\n",
       "      <td>787898</td>\n",
       "      <td>Kanpur</td>\n",
       "      <td>jaiswalsrajan@gmail.com</td>\n",
       "    </tr>\n",
       "    <tr>\n",
       "      <th>2</th>\n",
       "      <td>Aman_Saraogi</td>\n",
       "      <td>19</td>\n",
       "      <td>78</td>\n",
       "      <td>7898789</td>\n",
       "      <td>Jhansi</td>\n",
       "      <td>aman@gmail.com</td>\n",
       "    </tr>\n",
       "    <tr>\n",
       "      <th>3</th>\n",
       "      <td>Vibhor_Singh</td>\n",
       "      <td>20</td>\n",
       "      <td>92</td>\n",
       "      <td>Na</td>\n",
       "      <td>Dehradun</td>\n",
       "      <td>vibhu@gmail.com</td>\n",
       "    </tr>\n",
       "    <tr>\n",
       "      <th>4</th>\n",
       "      <td>Akki Sharma</td>\n",
       "      <td>Na</td>\n",
       "      <td>75</td>\n",
       "      <td>88778988</td>\n",
       "      <td>Lucknow</td>\n",
       "      <td>Na</td>\n",
       "    </tr>\n",
       "  </tbody>\n",
       "</table>\n",
       "</div>"
      ],
      "text/plain": [
       "             Name Age  Marks   Phoneno      City                    email\n",
       "0  Amandeep_Singh  20     98   9878978   Lucknow       amandeep@gmail.com\n",
       "1  Srajan_Jaiswal  21     89    787898    Kanpur  jaiswalsrajan@gmail.com\n",
       "2    Aman_Saraogi  19     78   7898789    Jhansi           aman@gmail.com\n",
       "3    Vibhor_Singh  20     92        Na  Dehradun          vibhu@gmail.com\n",
       "4     Akki Sharma  Na     75  88778988   Lucknow                       Na"
      ]
     },
     "execution_count": 13,
     "metadata": {},
     "output_type": "execute_result"
    }
   ],
   "source": [
    "df"
   ]
  },
  {
   "cell_type": "code",
   "execution_count": 14,
   "metadata": {},
   "outputs": [
    {
     "data": {
      "text/plain": [
       "0     True\n",
       "1    False\n",
       "2    False\n",
       "3    False\n",
       "4    False\n",
       "Name: Name, dtype: bool"
      ]
     },
     "execution_count": 14,
     "metadata": {},
     "output_type": "execute_result"
    }
   ],
   "source": [
    "df['Name'].str.contains(\"Amandeep\")          #check whether particluar name is present or not result in boolean"
   ]
  },
  {
   "cell_type": "code",
   "execution_count": 15,
   "metadata": {},
   "outputs": [
    {
     "data": {
      "text/plain": [
       "2"
      ]
     },
     "execution_count": 15,
     "metadata": {},
     "output_type": "execute_result"
    }
   ],
   "source": [
    "df['City'].str.contains(\"Lucknow\").sum()"
   ]
  },
  {
   "cell_type": "code",
   "execution_count": 16,
   "metadata": {},
   "outputs": [
    {
     "data": {
      "text/html": [
       "<div>\n",
       "<style scoped>\n",
       "    .dataframe tbody tr th:only-of-type {\n",
       "        vertical-align: middle;\n",
       "    }\n",
       "\n",
       "    .dataframe tbody tr th {\n",
       "        vertical-align: top;\n",
       "    }\n",
       "\n",
       "    .dataframe thead th {\n",
       "        text-align: right;\n",
       "    }\n",
       "</style>\n",
       "<table border=\"1\" class=\"dataframe\">\n",
       "  <thead>\n",
       "    <tr style=\"text-align: right;\">\n",
       "      <th></th>\n",
       "      <th>Name</th>\n",
       "      <th>Age</th>\n",
       "      <th>Marks</th>\n",
       "      <th>Phoneno</th>\n",
       "      <th>City</th>\n",
       "      <th>email</th>\n",
       "    </tr>\n",
       "  </thead>\n",
       "  <tbody>\n",
       "    <tr>\n",
       "      <th>0</th>\n",
       "      <td>Amandeep_Singh</td>\n",
       "      <td>20</td>\n",
       "      <td>98</td>\n",
       "      <td>9878978</td>\n",
       "      <td>Lucknow</td>\n",
       "      <td>amandeep@gmail.com</td>\n",
       "    </tr>\n",
       "  </tbody>\n",
       "</table>\n",
       "</div>"
      ],
      "text/plain": [
       "             Name Age  Marks  Phoneno     City               email\n",
       "0  Amandeep_Singh  20     98  9878978  Lucknow  amandeep@gmail.com"
      ]
     },
     "execution_count": 16,
     "metadata": {},
     "output_type": "execute_result"
    }
   ],
   "source": [
    "gr_data=df.groupby('Name')\n",
    "gr_data.get_group('Amandeep_Singh')"
   ]
  },
  {
   "cell_type": "code",
   "execution_count": 17,
   "metadata": {},
   "outputs": [
    {
     "data": {
      "text/html": [
       "<div>\n",
       "<style scoped>\n",
       "    .dataframe tbody tr th:only-of-type {\n",
       "        vertical-align: middle;\n",
       "    }\n",
       "\n",
       "    .dataframe tbody tr th {\n",
       "        vertical-align: top;\n",
       "    }\n",
       "\n",
       "    .dataframe thead th {\n",
       "        text-align: right;\n",
       "    }\n",
       "</style>\n",
       "<table border=\"1\" class=\"dataframe\">\n",
       "  <thead>\n",
       "    <tr style=\"text-align: right;\">\n",
       "      <th></th>\n",
       "      <th>Name</th>\n",
       "      <th>Age</th>\n",
       "      <th>Marks</th>\n",
       "      <th>Phoneno</th>\n",
       "      <th>City</th>\n",
       "      <th>email</th>\n",
       "    </tr>\n",
       "  </thead>\n",
       "  <tbody>\n",
       "    <tr>\n",
       "      <th>0</th>\n",
       "      <td>Amandeep_Singh</td>\n",
       "      <td>20</td>\n",
       "      <td>98</td>\n",
       "      <td>9878978</td>\n",
       "      <td>Lucknow</td>\n",
       "      <td>amandeep@gmail.com</td>\n",
       "    </tr>\n",
       "  </tbody>\n",
       "</table>\n",
       "</div>"
      ],
      "text/plain": [
       "             Name Age  Marks  Phoneno     City               email\n",
       "0  Amandeep_Singh  20     98  9878978  Lucknow  amandeep@gmail.com"
      ]
     },
     "execution_count": 17,
     "metadata": {},
     "output_type": "execute_result"
    }
   ],
   "source": [
    "gr_data=df.groupby(['City','email'])\n",
    "gr_data.get_group(('Lucknow','amandeep@gmail.com'))"
   ]
  },
  {
   "cell_type": "code",
   "execution_count": 18,
   "metadata": {},
   "outputs": [
    {
     "data": {
      "text/plain": [
       "86.4"
      ]
     },
     "execution_count": 18,
     "metadata": {},
     "output_type": "execute_result"
    }
   ],
   "source": [
    "df['Marks'].mean()       #cal mean of Marks"
   ]
  },
  {
   "cell_type": "code",
   "execution_count": 19,
   "metadata": {},
   "outputs": [
    {
     "data": {
      "text/html": [
       "<div>\n",
       "<style scoped>\n",
       "    .dataframe tbody tr th:only-of-type {\n",
       "        vertical-align: middle;\n",
       "    }\n",
       "\n",
       "    .dataframe tbody tr th {\n",
       "        vertical-align: top;\n",
       "    }\n",
       "\n",
       "    .dataframe thead th {\n",
       "        text-align: right;\n",
       "    }\n",
       "</style>\n",
       "<table border=\"1\" class=\"dataframe\">\n",
       "  <thead>\n",
       "    <tr style=\"text-align: right;\">\n",
       "      <th></th>\n",
       "      <th>Name</th>\n",
       "      <th>Age</th>\n",
       "      <th>Marks</th>\n",
       "      <th>Phoneno</th>\n",
       "      <th>City</th>\n",
       "      <th>email</th>\n",
       "    </tr>\n",
       "  </thead>\n",
       "  <tbody>\n",
       "    <tr>\n",
       "      <th>4</th>\n",
       "      <td>Akki Sharma</td>\n",
       "      <td>Na</td>\n",
       "      <td>75</td>\n",
       "      <td>88778988</td>\n",
       "      <td>Lucknow</td>\n",
       "      <td>Na</td>\n",
       "    </tr>\n",
       "    <tr>\n",
       "      <th>2</th>\n",
       "      <td>Aman_Saraogi</td>\n",
       "      <td>19</td>\n",
       "      <td>78</td>\n",
       "      <td>7898789</td>\n",
       "      <td>Jhansi</td>\n",
       "      <td>aman@gmail.com</td>\n",
       "    </tr>\n",
       "    <tr>\n",
       "      <th>0</th>\n",
       "      <td>Amandeep_Singh</td>\n",
       "      <td>20</td>\n",
       "      <td>98</td>\n",
       "      <td>9878978</td>\n",
       "      <td>Lucknow</td>\n",
       "      <td>amandeep@gmail.com</td>\n",
       "    </tr>\n",
       "    <tr>\n",
       "      <th>1</th>\n",
       "      <td>Srajan_Jaiswal</td>\n",
       "      <td>21</td>\n",
       "      <td>89</td>\n",
       "      <td>787898</td>\n",
       "      <td>Kanpur</td>\n",
       "      <td>jaiswalsrajan@gmail.com</td>\n",
       "    </tr>\n",
       "    <tr>\n",
       "      <th>3</th>\n",
       "      <td>Vibhor_Singh</td>\n",
       "      <td>20</td>\n",
       "      <td>92</td>\n",
       "      <td>Na</td>\n",
       "      <td>Dehradun</td>\n",
       "      <td>vibhu@gmail.com</td>\n",
       "    </tr>\n",
       "  </tbody>\n",
       "</table>\n",
       "</div>"
      ],
      "text/plain": [
       "             Name Age  Marks   Phoneno      City                    email\n",
       "4     Akki Sharma  Na     75  88778988   Lucknow                       Na\n",
       "2    Aman_Saraogi  19     78   7898789    Jhansi           aman@gmail.com\n",
       "0  Amandeep_Singh  20     98   9878978   Lucknow       amandeep@gmail.com\n",
       "1  Srajan_Jaiswal  21     89    787898    Kanpur  jaiswalsrajan@gmail.com\n",
       "3    Vibhor_Singh  20     92        Na  Dehradun          vibhu@gmail.com"
      ]
     },
     "execution_count": 19,
     "metadata": {},
     "output_type": "execute_result"
    }
   ],
   "source": [
    "df.sort_values(by='Name')"
   ]
  },
  {
   "cell_type": "code",
   "execution_count": 20,
   "metadata": {},
   "outputs": [
    {
     "data": {
      "text/html": [
       "<div>\n",
       "<style scoped>\n",
       "    .dataframe tbody tr th:only-of-type {\n",
       "        vertical-align: middle;\n",
       "    }\n",
       "\n",
       "    .dataframe tbody tr th {\n",
       "        vertical-align: top;\n",
       "    }\n",
       "\n",
       "    .dataframe thead th {\n",
       "        text-align: right;\n",
       "    }\n",
       "</style>\n",
       "<table border=\"1\" class=\"dataframe\">\n",
       "  <thead>\n",
       "    <tr style=\"text-align: right;\">\n",
       "      <th></th>\n",
       "      <th>Name</th>\n",
       "      <th>Age</th>\n",
       "      <th>Marks</th>\n",
       "      <th>Phoneno</th>\n",
       "      <th>City</th>\n",
       "      <th>email</th>\n",
       "    </tr>\n",
       "  </thead>\n",
       "  <tbody>\n",
       "    <tr>\n",
       "      <th>3</th>\n",
       "      <td>Vibhor_Singh</td>\n",
       "      <td>20</td>\n",
       "      <td>92</td>\n",
       "      <td>Na</td>\n",
       "      <td>Dehradun</td>\n",
       "      <td>vibhu@gmail.com</td>\n",
       "    </tr>\n",
       "    <tr>\n",
       "      <th>1</th>\n",
       "      <td>Srajan_Jaiswal</td>\n",
       "      <td>21</td>\n",
       "      <td>89</td>\n",
       "      <td>787898</td>\n",
       "      <td>Kanpur</td>\n",
       "      <td>jaiswalsrajan@gmail.com</td>\n",
       "    </tr>\n",
       "    <tr>\n",
       "      <th>0</th>\n",
       "      <td>Amandeep_Singh</td>\n",
       "      <td>20</td>\n",
       "      <td>98</td>\n",
       "      <td>9878978</td>\n",
       "      <td>Lucknow</td>\n",
       "      <td>amandeep@gmail.com</td>\n",
       "    </tr>\n",
       "    <tr>\n",
       "      <th>2</th>\n",
       "      <td>Aman_Saraogi</td>\n",
       "      <td>19</td>\n",
       "      <td>78</td>\n",
       "      <td>7898789</td>\n",
       "      <td>Jhansi</td>\n",
       "      <td>aman@gmail.com</td>\n",
       "    </tr>\n",
       "    <tr>\n",
       "      <th>4</th>\n",
       "      <td>Akki Sharma</td>\n",
       "      <td>Na</td>\n",
       "      <td>75</td>\n",
       "      <td>88778988</td>\n",
       "      <td>Lucknow</td>\n",
       "      <td>Na</td>\n",
       "    </tr>\n",
       "  </tbody>\n",
       "</table>\n",
       "</div>"
      ],
      "text/plain": [
       "             Name Age  Marks   Phoneno      City                    email\n",
       "3    Vibhor_Singh  20     92        Na  Dehradun          vibhu@gmail.com\n",
       "1  Srajan_Jaiswal  21     89    787898    Kanpur  jaiswalsrajan@gmail.com\n",
       "0  Amandeep_Singh  20     98   9878978   Lucknow       amandeep@gmail.com\n",
       "2    Aman_Saraogi  19     78   7898789    Jhansi           aman@gmail.com\n",
       "4     Akki Sharma  Na     75  88778988   Lucknow                       Na"
      ]
     },
     "execution_count": 20,
     "metadata": {},
     "output_type": "execute_result"
    }
   ],
   "source": [
    "df.sort_values(by='Name',ascending=False)"
   ]
  },
  {
   "cell_type": "code",
   "execution_count": 21,
   "metadata": {},
   "outputs": [
    {
     "data": {
      "text/html": [
       "<div>\n",
       "<style scoped>\n",
       "    .dataframe tbody tr th:only-of-type {\n",
       "        vertical-align: middle;\n",
       "    }\n",
       "\n",
       "    .dataframe tbody tr th {\n",
       "        vertical-align: top;\n",
       "    }\n",
       "\n",
       "    .dataframe thead th {\n",
       "        text-align: right;\n",
       "    }\n",
       "</style>\n",
       "<table border=\"1\" class=\"dataframe\">\n",
       "  <thead>\n",
       "    <tr style=\"text-align: right;\">\n",
       "      <th></th>\n",
       "      <th>Name</th>\n",
       "      <th>Age</th>\n",
       "      <th>Marks</th>\n",
       "      <th>Phoneno</th>\n",
       "      <th>City</th>\n",
       "      <th>email</th>\n",
       "    </tr>\n",
       "  </thead>\n",
       "  <tbody>\n",
       "    <tr>\n",
       "      <th>4</th>\n",
       "      <td>Akki Sharma</td>\n",
       "      <td>Na</td>\n",
       "      <td>75</td>\n",
       "      <td>88778988</td>\n",
       "      <td>Lucknow</td>\n",
       "      <td>Na</td>\n",
       "    </tr>\n",
       "    <tr>\n",
       "      <th>2</th>\n",
       "      <td>Aman_Saraogi</td>\n",
       "      <td>19</td>\n",
       "      <td>78</td>\n",
       "      <td>7898789</td>\n",
       "      <td>Jhansi</td>\n",
       "      <td>aman@gmail.com</td>\n",
       "    </tr>\n",
       "    <tr>\n",
       "      <th>0</th>\n",
       "      <td>Amandeep_Singh</td>\n",
       "      <td>20</td>\n",
       "      <td>98</td>\n",
       "      <td>9878978</td>\n",
       "      <td>Lucknow</td>\n",
       "      <td>amandeep@gmail.com</td>\n",
       "    </tr>\n",
       "    <tr>\n",
       "      <th>1</th>\n",
       "      <td>Srajan_Jaiswal</td>\n",
       "      <td>21</td>\n",
       "      <td>89</td>\n",
       "      <td>787898</td>\n",
       "      <td>Kanpur</td>\n",
       "      <td>jaiswalsrajan@gmail.com</td>\n",
       "    </tr>\n",
       "    <tr>\n",
       "      <th>3</th>\n",
       "      <td>Vibhor_Singh</td>\n",
       "      <td>20</td>\n",
       "      <td>92</td>\n",
       "      <td>Na</td>\n",
       "      <td>Dehradun</td>\n",
       "      <td>vibhu@gmail.com</td>\n",
       "    </tr>\n",
       "  </tbody>\n",
       "</table>\n",
       "</div>"
      ],
      "text/plain": [
       "             Name Age  Marks   Phoneno      City                    email\n",
       "4     Akki Sharma  Na     75  88778988   Lucknow                       Na\n",
       "2    Aman_Saraogi  19     78   7898789    Jhansi           aman@gmail.com\n",
       "0  Amandeep_Singh  20     98   9878978   Lucknow       amandeep@gmail.com\n",
       "1  Srajan_Jaiswal  21     89    787898    Kanpur  jaiswalsrajan@gmail.com\n",
       "3    Vibhor_Singh  20     92        Na  Dehradun          vibhu@gmail.com"
      ]
     },
     "execution_count": 21,
     "metadata": {},
     "output_type": "execute_result"
    }
   ],
   "source": [
    "df.sort_values(by=['Name','Age'],ascending=['True','False'])       #sort_values help in sorting "
   ]
  },
  {
   "cell_type": "code",
   "execution_count": 22,
   "metadata": {},
   "outputs": [
    {
     "name": "stdout",
     "output_type": "stream",
     "text": [
      "<class 'pandas.core.frame.DataFrame'>\n",
      "RangeIndex: 5 entries, 0 to 4\n",
      "Data columns (total 6 columns):\n",
      " #   Column   Non-Null Count  Dtype \n",
      "---  ------   --------------  ----- \n",
      " 0   Name     5 non-null      object\n",
      " 1   Age      5 non-null      object\n",
      " 2   Marks    5 non-null      int64 \n",
      " 3   Phoneno  5 non-null      object\n",
      " 4   City     5 non-null      object\n",
      " 5   email    5 non-null      object\n",
      "dtypes: int64(1), object(5)\n",
      "memory usage: 368.0+ bytes\n"
     ]
    }
   ],
   "source": [
    "df.info()         #info about rows,columns,dtype etc"
   ]
  },
  {
   "cell_type": "code",
   "execution_count": 23,
   "metadata": {},
   "outputs": [
    {
     "data": {
      "text/plain": [
       "0    14\n",
       "1    14\n",
       "2    12\n",
       "3    12\n",
       "4    11\n",
       "Name: Name, dtype: int64"
      ]
     },
     "execution_count": 23,
     "metadata": {},
     "output_type": "execute_result"
    }
   ],
   "source": [
    "df['Name'].apply(len)                  #find len of Name"
   ]
  },
  {
   "cell_type": "code",
   "execution_count": 24,
   "metadata": {},
   "outputs": [],
   "source": [
    "df['email']=df['email'].apply(lambda x:x.upper())   # this will make email name upper case"
   ]
  },
  {
   "cell_type": "code",
   "execution_count": 25,
   "metadata": {},
   "outputs": [
    {
     "data": {
      "text/html": [
       "<div>\n",
       "<style scoped>\n",
       "    .dataframe tbody tr th:only-of-type {\n",
       "        vertical-align: middle;\n",
       "    }\n",
       "\n",
       "    .dataframe tbody tr th {\n",
       "        vertical-align: top;\n",
       "    }\n",
       "\n",
       "    .dataframe thead th {\n",
       "        text-align: right;\n",
       "    }\n",
       "</style>\n",
       "<table border=\"1\" class=\"dataframe\">\n",
       "  <thead>\n",
       "    <tr style=\"text-align: right;\">\n",
       "      <th></th>\n",
       "      <th>Name</th>\n",
       "      <th>Age</th>\n",
       "      <th>Marks</th>\n",
       "      <th>Phoneno</th>\n",
       "      <th>City</th>\n",
       "      <th>email</th>\n",
       "    </tr>\n",
       "  </thead>\n",
       "  <tbody>\n",
       "    <tr>\n",
       "      <th>0</th>\n",
       "      <td>Amandeep_Singh</td>\n",
       "      <td>20</td>\n",
       "      <td>98</td>\n",
       "      <td>9878978</td>\n",
       "      <td>Lucknow</td>\n",
       "      <td>AMANDEEP@GMAIL.COM</td>\n",
       "    </tr>\n",
       "    <tr>\n",
       "      <th>1</th>\n",
       "      <td>Srajan_Jaiswal</td>\n",
       "      <td>21</td>\n",
       "      <td>89</td>\n",
       "      <td>787898</td>\n",
       "      <td>Kanpur</td>\n",
       "      <td>JAISWALSRAJAN@GMAIL.COM</td>\n",
       "    </tr>\n",
       "    <tr>\n",
       "      <th>2</th>\n",
       "      <td>Aman_Saraogi</td>\n",
       "      <td>19</td>\n",
       "      <td>78</td>\n",
       "      <td>7898789</td>\n",
       "      <td>Jhansi</td>\n",
       "      <td>AMAN@GMAIL.COM</td>\n",
       "    </tr>\n",
       "    <tr>\n",
       "      <th>3</th>\n",
       "      <td>Vibhor_Singh</td>\n",
       "      <td>20</td>\n",
       "      <td>92</td>\n",
       "      <td>Na</td>\n",
       "      <td>Dehradun</td>\n",
       "      <td>VIBHU@GMAIL.COM</td>\n",
       "    </tr>\n",
       "    <tr>\n",
       "      <th>4</th>\n",
       "      <td>Akki Sharma</td>\n",
       "      <td>Na</td>\n",
       "      <td>75</td>\n",
       "      <td>88778988</td>\n",
       "      <td>Lucknow</td>\n",
       "      <td>NA</td>\n",
       "    </tr>\n",
       "  </tbody>\n",
       "</table>\n",
       "</div>"
      ],
      "text/plain": [
       "             Name Age  Marks   Phoneno      City                    email\n",
       "0  Amandeep_Singh  20     98   9878978   Lucknow       AMANDEEP@GMAIL.COM\n",
       "1  Srajan_Jaiswal  21     89    787898    Kanpur  JAISWALSRAJAN@GMAIL.COM\n",
       "2    Aman_Saraogi  19     78   7898789    Jhansi           AMAN@GMAIL.COM\n",
       "3    Vibhor_Singh  20     92        Na  Dehradun          VIBHU@GMAIL.COM\n",
       "4     Akki Sharma  Na     75  88778988   Lucknow                       NA"
      ]
     },
     "execution_count": 25,
     "metadata": {},
     "output_type": "execute_result"
    }
   ],
   "source": [
    "df"
   ]
  },
  {
   "cell_type": "code",
   "execution_count": 26,
   "metadata": {},
   "outputs": [
    {
     "data": {
      "text/html": [
       "<div>\n",
       "<style scoped>\n",
       "    .dataframe tbody tr th:only-of-type {\n",
       "        vertical-align: middle;\n",
       "    }\n",
       "\n",
       "    .dataframe tbody tr th {\n",
       "        vertical-align: top;\n",
       "    }\n",
       "\n",
       "    .dataframe thead th {\n",
       "        text-align: right;\n",
       "    }\n",
       "</style>\n",
       "<table border=\"1\" class=\"dataframe\">\n",
       "  <thead>\n",
       "    <tr style=\"text-align: right;\">\n",
       "      <th></th>\n",
       "      <th>Name</th>\n",
       "      <th>Age</th>\n",
       "      <th>Marks</th>\n",
       "      <th>Mobileno</th>\n",
       "      <th>City</th>\n",
       "      <th>EMAIL</th>\n",
       "    </tr>\n",
       "  </thead>\n",
       "  <tbody>\n",
       "    <tr>\n",
       "      <th>0</th>\n",
       "      <td>Amandeep_Singh</td>\n",
       "      <td>20</td>\n",
       "      <td>98</td>\n",
       "      <td>9878978</td>\n",
       "      <td>Lucknow</td>\n",
       "      <td>AMANDEEP@GMAIL.COM</td>\n",
       "    </tr>\n",
       "    <tr>\n",
       "      <th>1</th>\n",
       "      <td>Srajan_Jaiswal</td>\n",
       "      <td>21</td>\n",
       "      <td>89</td>\n",
       "      <td>787898</td>\n",
       "      <td>Kanpur</td>\n",
       "      <td>JAISWALSRAJAN@GMAIL.COM</td>\n",
       "    </tr>\n",
       "    <tr>\n",
       "      <th>2</th>\n",
       "      <td>Aman_Saraogi</td>\n",
       "      <td>19</td>\n",
       "      <td>78</td>\n",
       "      <td>7898789</td>\n",
       "      <td>Jhansi</td>\n",
       "      <td>AMAN@GMAIL.COM</td>\n",
       "    </tr>\n",
       "    <tr>\n",
       "      <th>3</th>\n",
       "      <td>Vibhor_Singh</td>\n",
       "      <td>20</td>\n",
       "      <td>92</td>\n",
       "      <td>Na</td>\n",
       "      <td>Dehradun</td>\n",
       "      <td>VIBHU@GMAIL.COM</td>\n",
       "    </tr>\n",
       "    <tr>\n",
       "      <th>4</th>\n",
       "      <td>Akki Sharma</td>\n",
       "      <td>Na</td>\n",
       "      <td>75</td>\n",
       "      <td>88778988</td>\n",
       "      <td>Lucknow</td>\n",
       "      <td>NA</td>\n",
       "    </tr>\n",
       "  </tbody>\n",
       "</table>\n",
       "</div>"
      ],
      "text/plain": [
       "             Name Age  Marks  Mobileno      City                    EMAIL\n",
       "0  Amandeep_Singh  20     98   9878978   Lucknow       AMANDEEP@GMAIL.COM\n",
       "1  Srajan_Jaiswal  21     89    787898    Kanpur  JAISWALSRAJAN@GMAIL.COM\n",
       "2    Aman_Saraogi  19     78   7898789    Jhansi           AMAN@GMAIL.COM\n",
       "3    Vibhor_Singh  20     92        Na  Dehradun          VIBHU@GMAIL.COM\n",
       "4     Akki Sharma  Na     75  88778988   Lucknow                       NA"
      ]
     },
     "execution_count": 26,
     "metadata": {},
     "output_type": "execute_result"
    }
   ],
   "source": [
    "df.rename(columns={'Phoneno':'Mobileno','email':'EMAIL'})     #rename is used to change column name "
   ]
  },
  {
   "cell_type": "code",
   "execution_count": 27,
   "metadata": {},
   "outputs": [
    {
     "data": {
      "text/html": [
       "<div>\n",
       "<style scoped>\n",
       "    .dataframe tbody tr th:only-of-type {\n",
       "        vertical-align: middle;\n",
       "    }\n",
       "\n",
       "    .dataframe tbody tr th {\n",
       "        vertical-align: top;\n",
       "    }\n",
       "\n",
       "    .dataframe thead th {\n",
       "        text-align: right;\n",
       "    }\n",
       "</style>\n",
       "<table border=\"1\" class=\"dataframe\">\n",
       "  <thead>\n",
       "    <tr style=\"text-align: right;\">\n",
       "      <th></th>\n",
       "      <th>Name</th>\n",
       "      <th>Age</th>\n",
       "      <th>Marks</th>\n",
       "      <th>Phoneno</th>\n",
       "      <th>City</th>\n",
       "      <th>email</th>\n",
       "    </tr>\n",
       "  </thead>\n",
       "  <tbody>\n",
       "    <tr>\n",
       "      <th>0</th>\n",
       "      <td>Amandeep_Singh</td>\n",
       "      <td>20</td>\n",
       "      <td>98</td>\n",
       "      <td>9878978</td>\n",
       "      <td>Lucknow</td>\n",
       "      <td>AMANDEEP@GMAIL.COM</td>\n",
       "    </tr>\n",
       "    <tr>\n",
       "      <th>1</th>\n",
       "      <td>Srajan_Jaiswal</td>\n",
       "      <td>21</td>\n",
       "      <td>89</td>\n",
       "      <td>787898</td>\n",
       "      <td>Kanpur</td>\n",
       "      <td>JAISWALSRAJAN@GMAIL.COM</td>\n",
       "    </tr>\n",
       "    <tr>\n",
       "      <th>2</th>\n",
       "      <td>Aman_Saraogi</td>\n",
       "      <td>19</td>\n",
       "      <td>78</td>\n",
       "      <td>7898789</td>\n",
       "      <td>Jhansi</td>\n",
       "      <td>AMAN@GMAIL.COM</td>\n",
       "    </tr>\n",
       "    <tr>\n",
       "      <th>3</th>\n",
       "      <td>Vibhor_Singh</td>\n",
       "      <td>20</td>\n",
       "      <td>92</td>\n",
       "      <td>Na</td>\n",
       "      <td>Dehradun</td>\n",
       "      <td>VIBHU@GMAIL.COM</td>\n",
       "    </tr>\n",
       "    <tr>\n",
       "      <th>4</th>\n",
       "      <td>Akki Sharma</td>\n",
       "      <td>Na</td>\n",
       "      <td>75</td>\n",
       "      <td>88778988</td>\n",
       "      <td>Lucknow</td>\n",
       "      <td>NA</td>\n",
       "    </tr>\n",
       "  </tbody>\n",
       "</table>\n",
       "</div>"
      ],
      "text/plain": [
       "             Name Age  Marks   Phoneno      City                    email\n",
       "0  Amandeep_Singh  20     98   9878978   Lucknow       AMANDEEP@GMAIL.COM\n",
       "1  Srajan_Jaiswal  21     89    787898    Kanpur  JAISWALSRAJAN@GMAIL.COM\n",
       "2    Aman_Saraogi  19     78   7898789    Jhansi           AMAN@GMAIL.COM\n",
       "3    Vibhor_Singh  20     92        Na  Dehradun          VIBHU@GMAIL.COM\n",
       "4     Akki Sharma  Na     75  88778988   Lucknow                       NA"
      ]
     },
     "execution_count": 27,
     "metadata": {},
     "output_type": "execute_result"
    }
   ],
   "source": [
    "df"
   ]
  },
  {
   "cell_type": "code",
   "execution_count": 28,
   "metadata": {},
   "outputs": [
    {
     "data": {
      "text/plain": [
       "Name       Akki Sharma\n",
       "Age                 Na\n",
       "Marks               75\n",
       "Phoneno       88778988\n",
       "City           Lucknow\n",
       "email               NA\n",
       "Name: 4, dtype: object"
      ]
     },
     "execution_count": 28,
     "metadata": {},
     "output_type": "execute_result"
    }
   ],
   "source": [
    "df.loc[4]"
   ]
  },
  {
   "cell_type": "code",
   "execution_count": 29,
   "metadata": {},
   "outputs": [
    {
     "data": {
      "text/plain": [
       "0         AMANDEEP@GMAIL.COM\n",
       "1    JAISWALSRAJAN@GMAIL.COM\n",
       "2             AMAN@GMAIL.COM\n",
       "Name: email, dtype: object"
      ]
     },
     "execution_count": 29,
     "metadata": {},
     "output_type": "execute_result"
    }
   ],
   "source": [
    "df.loc[0:2,'email']"
   ]
  },
  {
   "cell_type": "code",
   "execution_count": 30,
   "metadata": {},
   "outputs": [],
   "source": [
    "del df['City']"
   ]
  },
  {
   "cell_type": "code",
   "execution_count": 31,
   "metadata": {},
   "outputs": [
    {
     "data": {
      "text/html": [
       "<div>\n",
       "<style scoped>\n",
       "    .dataframe tbody tr th:only-of-type {\n",
       "        vertical-align: middle;\n",
       "    }\n",
       "\n",
       "    .dataframe tbody tr th {\n",
       "        vertical-align: top;\n",
       "    }\n",
       "\n",
       "    .dataframe thead th {\n",
       "        text-align: right;\n",
       "    }\n",
       "</style>\n",
       "<table border=\"1\" class=\"dataframe\">\n",
       "  <thead>\n",
       "    <tr style=\"text-align: right;\">\n",
       "      <th></th>\n",
       "      <th>Name</th>\n",
       "      <th>Age</th>\n",
       "      <th>Marks</th>\n",
       "      <th>Phoneno</th>\n",
       "      <th>email</th>\n",
       "    </tr>\n",
       "  </thead>\n",
       "  <tbody>\n",
       "    <tr>\n",
       "      <th>0</th>\n",
       "      <td>Amandeep_Singh</td>\n",
       "      <td>20</td>\n",
       "      <td>98</td>\n",
       "      <td>9878978</td>\n",
       "      <td>AMANDEEP@GMAIL.COM</td>\n",
       "    </tr>\n",
       "    <tr>\n",
       "      <th>1</th>\n",
       "      <td>Srajan_Jaiswal</td>\n",
       "      <td>21</td>\n",
       "      <td>89</td>\n",
       "      <td>787898</td>\n",
       "      <td>JAISWALSRAJAN@GMAIL.COM</td>\n",
       "    </tr>\n",
       "    <tr>\n",
       "      <th>2</th>\n",
       "      <td>Aman_Saraogi</td>\n",
       "      <td>19</td>\n",
       "      <td>78</td>\n",
       "      <td>7898789</td>\n",
       "      <td>AMAN@GMAIL.COM</td>\n",
       "    </tr>\n",
       "    <tr>\n",
       "      <th>3</th>\n",
       "      <td>Vibhor_Singh</td>\n",
       "      <td>20</td>\n",
       "      <td>92</td>\n",
       "      <td>Na</td>\n",
       "      <td>VIBHU@GMAIL.COM</td>\n",
       "    </tr>\n",
       "    <tr>\n",
       "      <th>4</th>\n",
       "      <td>Akki Sharma</td>\n",
       "      <td>Na</td>\n",
       "      <td>75</td>\n",
       "      <td>88778988</td>\n",
       "      <td>NA</td>\n",
       "    </tr>\n",
       "  </tbody>\n",
       "</table>\n",
       "</div>"
      ],
      "text/plain": [
       "             Name Age  Marks   Phoneno                    email\n",
       "0  Amandeep_Singh  20     98   9878978       AMANDEEP@GMAIL.COM\n",
       "1  Srajan_Jaiswal  21     89    787898  JAISWALSRAJAN@GMAIL.COM\n",
       "2    Aman_Saraogi  19     78   7898789           AMAN@GMAIL.COM\n",
       "3    Vibhor_Singh  20     92        Na          VIBHU@GMAIL.COM\n",
       "4     Akki Sharma  Na     75  88778988                       NA"
      ]
     },
     "execution_count": 31,
     "metadata": {},
     "output_type": "execute_result"
    }
   ],
   "source": [
    "df"
   ]
  },
  {
   "cell_type": "code",
   "execution_count": 32,
   "metadata": {},
   "outputs": [
    {
     "data": {
      "text/html": [
       "<div>\n",
       "<style scoped>\n",
       "    .dataframe tbody tr th:only-of-type {\n",
       "        vertical-align: middle;\n",
       "    }\n",
       "\n",
       "    .dataframe tbody tr th {\n",
       "        vertical-align: top;\n",
       "    }\n",
       "\n",
       "    .dataframe thead th {\n",
       "        text-align: right;\n",
       "    }\n",
       "</style>\n",
       "<table border=\"1\" class=\"dataframe\">\n",
       "  <thead>\n",
       "    <tr style=\"text-align: right;\">\n",
       "      <th></th>\n",
       "      <th>Name</th>\n",
       "      <th>Age</th>\n",
       "      <th>Marks</th>\n",
       "      <th>Phoneno</th>\n",
       "      <th>email</th>\n",
       "    </tr>\n",
       "  </thead>\n",
       "  <tbody>\n",
       "    <tr>\n",
       "      <th>0</th>\n",
       "      <td>Amandeep_Singh</td>\n",
       "      <td>20</td>\n",
       "      <td>98</td>\n",
       "      <td>9878978</td>\n",
       "      <td>AMANDEEP@GMAIL.COM</td>\n",
       "    </tr>\n",
       "    <tr>\n",
       "      <th>1</th>\n",
       "      <td>Srajan_Jaiswal</td>\n",
       "      <td>21</td>\n",
       "      <td>89</td>\n",
       "      <td>787898</td>\n",
       "      <td>JAISWALSRAJAN@GMAIL.COM</td>\n",
       "    </tr>\n",
       "    <tr>\n",
       "      <th>3</th>\n",
       "      <td>Vibhor_Singh</td>\n",
       "      <td>20</td>\n",
       "      <td>92</td>\n",
       "      <td>Na</td>\n",
       "      <td>VIBHU@GMAIL.COM</td>\n",
       "    </tr>\n",
       "    <tr>\n",
       "      <th>4</th>\n",
       "      <td>Akki Sharma</td>\n",
       "      <td>Na</td>\n",
       "      <td>75</td>\n",
       "      <td>88778988</td>\n",
       "      <td>NA</td>\n",
       "    </tr>\n",
       "  </tbody>\n",
       "</table>\n",
       "</div>"
      ],
      "text/plain": [
       "             Name Age  Marks   Phoneno                    email\n",
       "0  Amandeep_Singh  20     98   9878978       AMANDEEP@GMAIL.COM\n",
       "1  Srajan_Jaiswal  21     89    787898  JAISWALSRAJAN@GMAIL.COM\n",
       "3    Vibhor_Singh  20     92        Na          VIBHU@GMAIL.COM\n",
       "4     Akki Sharma  Na     75  88778988                       NA"
      ]
     },
     "execution_count": 32,
     "metadata": {},
     "output_type": "execute_result"
    }
   ],
   "source": [
    "df.drop(index=2)    #remove 2 rows"
   ]
  },
  {
   "cell_type": "code",
   "execution_count": null,
   "metadata": {},
   "outputs": [],
   "source": []
  }
 ],
 "metadata": {
  "kernelspec": {
   "display_name": "Python 3",
   "language": "python",
   "name": "python3"
  },
  "language_info": {
   "codemirror_mode": {
    "name": "ipython",
    "version": 3
   },
   "file_extension": ".py",
   "mimetype": "text/x-python",
   "name": "python",
   "nbconvert_exporter": "python",
   "pygments_lexer": "ipython3",
   "version": "3.8.6"
  }
 },
 "nbformat": 4,
 "nbformat_minor": 4
}
