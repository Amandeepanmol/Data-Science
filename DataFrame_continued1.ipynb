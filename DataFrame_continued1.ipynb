{
 "cells": [
  {
   "cell_type": "code",
   "execution_count": 1,
   "metadata": {},
   "outputs": [],
   "source": [
    "student={'Name':['Amandeep_Singh','Srajan_Jaiswal','Aman_Saraogi','Vibhor_Singh'],\n",
    "          'Age':[20,21,19,20],\n",
    "          'City':['Lucknow','Kanpur','Jhansi','Dehradun'],\n",
    "          'email':['amandeep@gmail.com','jaiswalsrajan@gmail.com','aman@gmail.com','vibhu@gmail.com']\n",
    "        }"
   ]
  },
  {
   "cell_type": "code",
   "execution_count": 2,
   "metadata": {},
   "outputs": [],
   "source": [
    "import pandas as pd"
   ]
  },
  {
   "cell_type": "code",
   "execution_count": 3,
   "metadata": {},
   "outputs": [],
   "source": [
    "df=pd.DataFrame(student)   #creating data frames"
   ]
  },
  {
   "cell_type": "code",
   "execution_count": 4,
   "metadata": {},
   "outputs": [
    {
     "data": {
      "text/html": [
       "<div>\n",
       "<style scoped>\n",
       "    .dataframe tbody tr th:only-of-type {\n",
       "        vertical-align: middle;\n",
       "    }\n",
       "\n",
       "    .dataframe tbody tr th {\n",
       "        vertical-align: top;\n",
       "    }\n",
       "\n",
       "    .dataframe thead th {\n",
       "        text-align: right;\n",
       "    }\n",
       "</style>\n",
       "<table border=\"1\" class=\"dataframe\">\n",
       "  <thead>\n",
       "    <tr style=\"text-align: right;\">\n",
       "      <th></th>\n",
       "      <th>Name</th>\n",
       "      <th>Age</th>\n",
       "      <th>City</th>\n",
       "      <th>email</th>\n",
       "    </tr>\n",
       "  </thead>\n",
       "  <tbody>\n",
       "    <tr>\n",
       "      <th>0</th>\n",
       "      <td>Amandeep_Singh</td>\n",
       "      <td>20</td>\n",
       "      <td>Lucknow</td>\n",
       "      <td>amandeep@gmail.com</td>\n",
       "    </tr>\n",
       "    <tr>\n",
       "      <th>1</th>\n",
       "      <td>Srajan_Jaiswal</td>\n",
       "      <td>21</td>\n",
       "      <td>Kanpur</td>\n",
       "      <td>jaiswalsrajan@gmail.com</td>\n",
       "    </tr>\n",
       "    <tr>\n",
       "      <th>2</th>\n",
       "      <td>Aman_Saraogi</td>\n",
       "      <td>19</td>\n",
       "      <td>Jhansi</td>\n",
       "      <td>aman@gmail.com</td>\n",
       "    </tr>\n",
       "    <tr>\n",
       "      <th>3</th>\n",
       "      <td>Vibhor_Singh</td>\n",
       "      <td>20</td>\n",
       "      <td>Dehradun</td>\n",
       "      <td>vibhu@gmail.com</td>\n",
       "    </tr>\n",
       "  </tbody>\n",
       "</table>\n",
       "</div>"
      ],
      "text/plain": [
       "             Name  Age      City                    email\n",
       "0  Amandeep_Singh   20   Lucknow       amandeep@gmail.com\n",
       "1  Srajan_Jaiswal   21    Kanpur  jaiswalsrajan@gmail.com\n",
       "2    Aman_Saraogi   19    Jhansi           aman@gmail.com\n",
       "3    Vibhor_Singh   20  Dehradun          vibhu@gmail.com"
      ]
     },
     "execution_count": 4,
     "metadata": {},
     "output_type": "execute_result"
    }
   ],
   "source": [
    "df"
   ]
  },
  {
   "cell_type": "code",
   "execution_count": 5,
   "metadata": {},
   "outputs": [
    {
     "data": {
      "text/plain": [
       "Index(['Name', 'Age', 'City', 'email'], dtype='object')"
      ]
     },
     "execution_count": 5,
     "metadata": {},
     "output_type": "execute_result"
    }
   ],
   "source": [
    "df.columns        #it gives us the columns name"
   ]
  },
  {
   "cell_type": "code",
   "execution_count": 6,
   "metadata": {},
   "outputs": [],
   "source": [
    "df.columns=['fname','fage','fcity','femail']            #change the columns name"
   ]
  },
  {
   "cell_type": "code",
   "execution_count": 7,
   "metadata": {},
   "outputs": [
    {
     "data": {
      "text/html": [
       "<div>\n",
       "<style scoped>\n",
       "    .dataframe tbody tr th:only-of-type {\n",
       "        vertical-align: middle;\n",
       "    }\n",
       "\n",
       "    .dataframe tbody tr th {\n",
       "        vertical-align: top;\n",
       "    }\n",
       "\n",
       "    .dataframe thead th {\n",
       "        text-align: right;\n",
       "    }\n",
       "</style>\n",
       "<table border=\"1\" class=\"dataframe\">\n",
       "  <thead>\n",
       "    <tr style=\"text-align: right;\">\n",
       "      <th></th>\n",
       "      <th>fname</th>\n",
       "      <th>fage</th>\n",
       "      <th>fcity</th>\n",
       "      <th>femail</th>\n",
       "    </tr>\n",
       "  </thead>\n",
       "  <tbody>\n",
       "    <tr>\n",
       "      <th>0</th>\n",
       "      <td>Amandeep_Singh</td>\n",
       "      <td>20</td>\n",
       "      <td>Lucknow</td>\n",
       "      <td>amandeep@gmail.com</td>\n",
       "    </tr>\n",
       "    <tr>\n",
       "      <th>1</th>\n",
       "      <td>Srajan_Jaiswal</td>\n",
       "      <td>21</td>\n",
       "      <td>Kanpur</td>\n",
       "      <td>jaiswalsrajan@gmail.com</td>\n",
       "    </tr>\n",
       "    <tr>\n",
       "      <th>2</th>\n",
       "      <td>Aman_Saraogi</td>\n",
       "      <td>19</td>\n",
       "      <td>Jhansi</td>\n",
       "      <td>aman@gmail.com</td>\n",
       "    </tr>\n",
       "    <tr>\n",
       "      <th>3</th>\n",
       "      <td>Vibhor_Singh</td>\n",
       "      <td>20</td>\n",
       "      <td>Dehradun</td>\n",
       "      <td>vibhu@gmail.com</td>\n",
       "    </tr>\n",
       "  </tbody>\n",
       "</table>\n",
       "</div>"
      ],
      "text/plain": [
       "            fname  fage     fcity                   femail\n",
       "0  Amandeep_Singh    20   Lucknow       amandeep@gmail.com\n",
       "1  Srajan_Jaiswal    21    Kanpur  jaiswalsrajan@gmail.com\n",
       "2    Aman_Saraogi    19    Jhansi           aman@gmail.com\n",
       "3    Vibhor_Singh    20  Dehradun          vibhu@gmail.com"
      ]
     },
     "execution_count": 7,
     "metadata": {},
     "output_type": "execute_result"
    }
   ],
   "source": [
    "df"
   ]
  },
  {
   "cell_type": "code",
   "execution_count": 8,
   "metadata": {},
   "outputs": [],
   "source": [
    "df.columns=[x.upper() for x in df.columns]                   #using list comprehension to change columns name to upper case"
   ]
  },
  {
   "cell_type": "code",
   "execution_count": 9,
   "metadata": {},
   "outputs": [
    {
     "data": {
      "text/html": [
       "<div>\n",
       "<style scoped>\n",
       "    .dataframe tbody tr th:only-of-type {\n",
       "        vertical-align: middle;\n",
       "    }\n",
       "\n",
       "    .dataframe tbody tr th {\n",
       "        vertical-align: top;\n",
       "    }\n",
       "\n",
       "    .dataframe thead th {\n",
       "        text-align: right;\n",
       "    }\n",
       "</style>\n",
       "<table border=\"1\" class=\"dataframe\">\n",
       "  <thead>\n",
       "    <tr style=\"text-align: right;\">\n",
       "      <th></th>\n",
       "      <th>FNAME</th>\n",
       "      <th>FAGE</th>\n",
       "      <th>FCITY</th>\n",
       "      <th>FEMAIL</th>\n",
       "    </tr>\n",
       "  </thead>\n",
       "  <tbody>\n",
       "    <tr>\n",
       "      <th>0</th>\n",
       "      <td>Amandeep_Singh</td>\n",
       "      <td>20</td>\n",
       "      <td>Lucknow</td>\n",
       "      <td>amandeep@gmail.com</td>\n",
       "    </tr>\n",
       "    <tr>\n",
       "      <th>1</th>\n",
       "      <td>Srajan_Jaiswal</td>\n",
       "      <td>21</td>\n",
       "      <td>Kanpur</td>\n",
       "      <td>jaiswalsrajan@gmail.com</td>\n",
       "    </tr>\n",
       "    <tr>\n",
       "      <th>2</th>\n",
       "      <td>Aman_Saraogi</td>\n",
       "      <td>19</td>\n",
       "      <td>Jhansi</td>\n",
       "      <td>aman@gmail.com</td>\n",
       "    </tr>\n",
       "    <tr>\n",
       "      <th>3</th>\n",
       "      <td>Vibhor_Singh</td>\n",
       "      <td>20</td>\n",
       "      <td>Dehradun</td>\n",
       "      <td>vibhu@gmail.com</td>\n",
       "    </tr>\n",
       "  </tbody>\n",
       "</table>\n",
       "</div>"
      ],
      "text/plain": [
       "            FNAME  FAGE     FCITY                   FEMAIL\n",
       "0  Amandeep_Singh    20   Lucknow       amandeep@gmail.com\n",
       "1  Srajan_Jaiswal    21    Kanpur  jaiswalsrajan@gmail.com\n",
       "2    Aman_Saraogi    19    Jhansi           aman@gmail.com\n",
       "3    Vibhor_Singh    20  Dehradun          vibhu@gmail.com"
      ]
     },
     "execution_count": 9,
     "metadata": {},
     "output_type": "execute_result"
    }
   ],
   "source": [
    "df            #now column name becomes upper case"
   ]
  },
  {
   "cell_type": "code",
   "execution_count": 22,
   "metadata": {},
   "outputs": [],
   "source": [
    "df.columns=['Name','Age','City','email']"
   ]
  },
  {
   "cell_type": "code",
   "execution_count": 23,
   "metadata": {},
   "outputs": [
    {
     "data": {
      "text/html": [
       "<div>\n",
       "<style scoped>\n",
       "    .dataframe tbody tr th:only-of-type {\n",
       "        vertical-align: middle;\n",
       "    }\n",
       "\n",
       "    .dataframe tbody tr th {\n",
       "        vertical-align: top;\n",
       "    }\n",
       "\n",
       "    .dataframe thead th {\n",
       "        text-align: right;\n",
       "    }\n",
       "</style>\n",
       "<table border=\"1\" class=\"dataframe\">\n",
       "  <thead>\n",
       "    <tr style=\"text-align: right;\">\n",
       "      <th></th>\n",
       "      <th>Name</th>\n",
       "      <th>Age</th>\n",
       "      <th>City</th>\n",
       "      <th>email</th>\n",
       "    </tr>\n",
       "  </thead>\n",
       "  <tbody>\n",
       "    <tr>\n",
       "      <th>0</th>\n",
       "      <td>Amandeep_Singh</td>\n",
       "      <td>20</td>\n",
       "      <td>Lucknow</td>\n",
       "      <td>amandeep@gmail.com</td>\n",
       "    </tr>\n",
       "    <tr>\n",
       "      <th>1</th>\n",
       "      <td>Srajan_Jaiswal</td>\n",
       "      <td>21</td>\n",
       "      <td>Kanpur</td>\n",
       "      <td>jaiswalsrajan@gmail.com</td>\n",
       "    </tr>\n",
       "    <tr>\n",
       "      <th>2</th>\n",
       "      <td>Aman_Saraogi</td>\n",
       "      <td>19</td>\n",
       "      <td>Jhansi</td>\n",
       "      <td>aman@gmail.com</td>\n",
       "    </tr>\n",
       "    <tr>\n",
       "      <th>3</th>\n",
       "      <td>Vibhor_Singh</td>\n",
       "      <td>20</td>\n",
       "      <td>Dehradun</td>\n",
       "      <td>vibhu@gmail.com</td>\n",
       "    </tr>\n",
       "  </tbody>\n",
       "</table>\n",
       "</div>"
      ],
      "text/plain": [
       "             Name  Age      City                    email\n",
       "0  Amandeep_Singh   20   Lucknow       amandeep@gmail.com\n",
       "1  Srajan_Jaiswal   21    Kanpur  jaiswalsrajan@gmail.com\n",
       "2    Aman_Saraogi   19    Jhansi           aman@gmail.com\n",
       "3    Vibhor_Singh   20  Dehradun          vibhu@gmail.com"
      ]
     },
     "execution_count": 23,
     "metadata": {},
     "output_type": "execute_result"
    }
   ],
   "source": [
    "df"
   ]
  },
  {
   "cell_type": "code",
   "execution_count": 26,
   "metadata": {},
   "outputs": [
    {
     "data": {
      "text/plain": [
       "Name         Amandeep_Singh\n",
       "Age                      20\n",
       "City                Lucknow\n",
       "email    amandeep@gmail.com\n",
       "Name: 0, dtype: object"
      ]
     },
     "execution_count": 26,
     "metadata": {},
     "output_type": "execute_result"
    }
   ],
   "source": [
    "df.loc[0]              #for getting row at 0"
   ]
  },
  {
   "cell_type": "code",
   "execution_count": 29,
   "metadata": {},
   "outputs": [
    {
     "data": {
      "text/plain": [
       "Name       Aman_Saraogi\n",
       "email    aman@gmail.com\n",
       "Name: 2, dtype: object"
      ]
     },
     "execution_count": 29,
     "metadata": {},
     "output_type": "execute_result"
    }
   ],
   "source": [
    "df.loc[2,['Name','email']]"
   ]
  },
  {
   "cell_type": "code",
   "execution_count": 30,
   "metadata": {},
   "outputs": [
    {
     "data": {
      "text/html": [
       "<div>\n",
       "<style scoped>\n",
       "    .dataframe tbody tr th:only-of-type {\n",
       "        vertical-align: middle;\n",
       "    }\n",
       "\n",
       "    .dataframe tbody tr th {\n",
       "        vertical-align: top;\n",
       "    }\n",
       "\n",
       "    .dataframe thead th {\n",
       "        text-align: right;\n",
       "    }\n",
       "</style>\n",
       "<table border=\"1\" class=\"dataframe\">\n",
       "  <thead>\n",
       "    <tr style=\"text-align: right;\">\n",
       "      <th></th>\n",
       "      <th>Name</th>\n",
       "      <th>Age</th>\n",
       "      <th>City</th>\n",
       "      <th>email</th>\n",
       "    </tr>\n",
       "  </thead>\n",
       "  <tbody>\n",
       "    <tr>\n",
       "      <th>3</th>\n",
       "      <td>Vibhor_Singh</td>\n",
       "      <td>20</td>\n",
       "      <td>Dehradun</td>\n",
       "      <td>vibhu@gmail.com</td>\n",
       "    </tr>\n",
       "    <tr>\n",
       "      <th>2</th>\n",
       "      <td>Aman_Saraogi</td>\n",
       "      <td>19</td>\n",
       "      <td>Jhansi</td>\n",
       "      <td>aman@gmail.com</td>\n",
       "    </tr>\n",
       "    <tr>\n",
       "      <th>1</th>\n",
       "      <td>Srajan_Jaiswal</td>\n",
       "      <td>21</td>\n",
       "      <td>Kanpur</td>\n",
       "      <td>jaiswalsrajan@gmail.com</td>\n",
       "    </tr>\n",
       "    <tr>\n",
       "      <th>0</th>\n",
       "      <td>Amandeep_Singh</td>\n",
       "      <td>20</td>\n",
       "      <td>Lucknow</td>\n",
       "      <td>amandeep@gmail.com</td>\n",
       "    </tr>\n",
       "  </tbody>\n",
       "</table>\n",
       "</div>"
      ],
      "text/plain": [
       "             Name  Age      City                    email\n",
       "3    Vibhor_Singh   20  Dehradun          vibhu@gmail.com\n",
       "2    Aman_Saraogi   19    Jhansi           aman@gmail.com\n",
       "1  Srajan_Jaiswal   21    Kanpur  jaiswalsrajan@gmail.com\n",
       "0  Amandeep_Singh   20   Lucknow       amandeep@gmail.com"
      ]
     },
     "execution_count": 30,
     "metadata": {},
     "output_type": "execute_result"
    }
   ],
   "source": [
    "df.loc[::-1]"
   ]
  },
  {
   "cell_type": "code",
   "execution_count": 34,
   "metadata": {},
   "outputs": [
    {
     "data": {
      "text/plain": [
       "'Amandeep_Singh'"
      ]
     },
     "execution_count": 34,
     "metadata": {},
     "output_type": "execute_result"
    }
   ],
   "source": [
    "df.at[0,'Name']             #at can also be used to access value"
   ]
  },
  {
   "cell_type": "code",
   "execution_count": 32,
   "metadata": {},
   "outputs": [
    {
     "data": {
      "text/plain": [
       "0         AMANDEEP@GMAIL.COM\n",
       "1    JAISWALSRAJAN@GMAIL.COM\n",
       "2             AMAN@GMAIL.COM\n",
       "3            VIBHU@GMAIL.COM\n",
       "Name: email, dtype: object"
      ]
     },
     "execution_count": 32,
     "metadata": {},
     "output_type": "execute_result"
    }
   ],
   "source": [
    "df['email'].str.upper()           # it converts email to upper case"
   ]
  },
  {
   "cell_type": "code",
   "execution_count": 35,
   "metadata": {},
   "outputs": [
    {
     "data": {
      "text/plain": [
       "0         amandeep@gmail.com\n",
       "1    jaiswalsrajan@gmail.com\n",
       "2             aman@gmail.com\n",
       "3            vibhu@gmail.com\n",
       "Name: email, dtype: object"
      ]
     },
     "execution_count": 35,
     "metadata": {},
     "output_type": "execute_result"
    }
   ],
   "source": [
    "df['email'].str.lower()          # it converts email back to lower case"
   ]
  },
  {
   "cell_type": "code",
   "execution_count": 36,
   "metadata": {},
   "outputs": [
    {
     "data": {
      "text/plain": [
       "0    18\n",
       "1    23\n",
       "2    14\n",
       "3    15\n",
       "Name: email, dtype: int64"
      ]
     },
     "execution_count": 36,
     "metadata": {},
     "output_type": "execute_result"
    }
   ],
   "source": [
    "df['email'].apply(len)      #length of email"
   ]
  },
  {
   "cell_type": "code",
   "execution_count": 37,
   "metadata": {},
   "outputs": [
    {
     "data": {
      "text/html": [
       "<div>\n",
       "<style scoped>\n",
       "    .dataframe tbody tr th:only-of-type {\n",
       "        vertical-align: middle;\n",
       "    }\n",
       "\n",
       "    .dataframe tbody tr th {\n",
       "        vertical-align: top;\n",
       "    }\n",
       "\n",
       "    .dataframe thead th {\n",
       "        text-align: right;\n",
       "    }\n",
       "</style>\n",
       "<table border=\"1\" class=\"dataframe\">\n",
       "  <thead>\n",
       "    <tr style=\"text-align: right;\">\n",
       "      <th></th>\n",
       "      <th>Name</th>\n",
       "      <th>Age</th>\n",
       "      <th>City</th>\n",
       "      <th>email</th>\n",
       "    </tr>\n",
       "  </thead>\n",
       "  <tbody>\n",
       "    <tr>\n",
       "      <th>0</th>\n",
       "      <td>Amandeep_Singh</td>\n",
       "      <td>20</td>\n",
       "      <td>Lucknow</td>\n",
       "      <td>amandeep@gmail.com</td>\n",
       "    </tr>\n",
       "    <tr>\n",
       "      <th>1</th>\n",
       "      <td>Srajan_Jaiswal</td>\n",
       "      <td>21</td>\n",
       "      <td>Kanpur</td>\n",
       "      <td>jaiswalsrajan@gmail.com</td>\n",
       "    </tr>\n",
       "    <tr>\n",
       "      <th>2</th>\n",
       "      <td>Aman_Saraogi</td>\n",
       "      <td>19</td>\n",
       "      <td>Jhansi</td>\n",
       "      <td>aman@gmail.com</td>\n",
       "    </tr>\n",
       "    <tr>\n",
       "      <th>3</th>\n",
       "      <td>Vibhor_Singh</td>\n",
       "      <td>20</td>\n",
       "      <td>Dehradun</td>\n",
       "      <td>vibhu@gmail.com</td>\n",
       "    </tr>\n",
       "  </tbody>\n",
       "</table>\n",
       "</div>"
      ],
      "text/plain": [
       "             Name  Age      City                    email\n",
       "0  Amandeep_Singh   20   Lucknow       amandeep@gmail.com\n",
       "1  Srajan_Jaiswal   21    Kanpur  jaiswalsrajan@gmail.com\n",
       "2    Aman_Saraogi   19    Jhansi           aman@gmail.com\n",
       "3    Vibhor_Singh   20  Dehradun          vibhu@gmail.com"
      ]
     },
     "execution_count": 37,
     "metadata": {},
     "output_type": "execute_result"
    }
   ],
   "source": [
    "df"
   ]
  },
  {
   "cell_type": "code",
   "execution_count": 41,
   "metadata": {},
   "outputs": [],
   "source": [
    "df['email']=df['email'].apply(lambda x:x.upper())"
   ]
  },
  {
   "cell_type": "code",
   "execution_count": 45,
   "metadata": {},
   "outputs": [
    {
     "data": {
      "text/plain": [
       "0         AMANDEEP@GMAIL.COM\n",
       "1    JAISWALSRAJAN@GMAIL.COM\n",
       "2             AMAN@GMAIL.COM\n",
       "3            VIBHU@GMAIL.COM\n",
       "Name: email, dtype: object"
      ]
     },
     "execution_count": 45,
     "metadata": {},
     "output_type": "execute_result"
    }
   ],
   "source": [
    "df"
   ]
  },
  {
   "cell_type": "code",
   "execution_count": null,
   "metadata": {},
   "outputs": [],
   "source": []
  }
 ],
 "metadata": {
  "kernelspec": {
   "display_name": "Python 3",
   "language": "python",
   "name": "python3"
  },
  "language_info": {
   "codemirror_mode": {
    "name": "ipython",
    "version": 3
   },
   "file_extension": ".py",
   "mimetype": "text/x-python",
   "name": "python",
   "nbconvert_exporter": "python",
   "pygments_lexer": "ipython3",
   "version": "3.8.6"
  }
 },
 "nbformat": 4,
 "nbformat_minor": 4
}
